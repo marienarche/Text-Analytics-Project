{
 "cells": [
  {
   "cell_type": "code",
   "execution_count": 2,
   "id": "1b175da0-aa32-4b1d-8669-478a7a01ffc9",
   "metadata": {},
   "outputs": [],
   "source": [
    "import warnings\n",
    "warnings.filterwarnings('ignore')"
   ]
  },
  {
   "cell_type": "code",
   "execution_count": 3,
   "id": "05a04e2a",
   "metadata": {},
   "outputs": [],
   "source": [
    "#!pip install textblob\n",
    "#!pip install wordcloud\n",
    "#!pip install pygal\n",
    "#!pip install squarify"
   ]
  },
  {
   "cell_type": "code",
   "execution_count": 4,
   "id": "f0efb0a7-6973-4357-9162-a98c79cb8c3b",
   "metadata": {},
   "outputs": [],
   "source": [
    "import numpy as np \n",
    "import pandas as pd\n",
    "import seaborn as sns\n",
    "import matplotlib.pyplot as plt \n",
    "import plotly.express as px\n",
    "import plotly.graph_objects as go\n",
    "from textblob import TextBlob\n",
    "from wordcloud import WordCloud, STOPWORDS, ImageColorGenerator\n",
    "import nltk\n",
    "import re\n",
    "import pygal as py\n",
    "import squarify as sq\n",
    "import matplotlib \n",
    "from sklearn.feature_extraction.text import CountVectorizer\n",
    "%matplotlib inline "
   ]
  },
  {
   "cell_type": "code",
   "execution_count": 5,
   "id": "c0e776f9-9984-4c9b-bf9b-15f1fd302b62",
   "metadata": {},
   "outputs": [],
   "source": [
    "df=pd.read_csv(\"../Dataset/new_data.csv\", encoding=\"ISO-8859-1\") # heading = none"
   ]
  },
  {
   "cell_type": "code",
   "execution_count": 6,
   "metadata": {},
   "outputs": [],
   "source": [
    "# MAP sentiment\n",
    "label = {\"positive\": 2, \"neutral\": 1, \"negative\": 0}\n",
    "df[\"sentiment\"]=df[\"sentiment\"].map(label)\n",
    "y=df[\"sentiment\"]\n",
    "X=df[\"news\"]"
   ]
  },
  {
   "cell_type": "code",
   "execution_count": 8,
   "id": "10e9d42d",
   "metadata": {},
   "outputs": [
    {
     "data": {
      "text/html": [
       "<div>\n",
       "<style scoped>\n",
       "    .dataframe tbody tr th:only-of-type {\n",
       "        vertical-align: middle;\n",
       "    }\n",
       "\n",
       "    .dataframe tbody tr th {\n",
       "        vertical-align: top;\n",
       "    }\n",
       "\n",
       "    .dataframe thead th {\n",
       "        text-align: right;\n",
       "    }\n",
       "</style>\n",
       "<table border=\"1\" class=\"dataframe\">\n",
       "  <thead>\n",
       "    <tr style=\"text-align: right;\">\n",
       "      <th></th>\n",
       "      <th>sentiment</th>\n",
       "      <th>news</th>\n",
       "      <th>news_len</th>\n",
       "      <th>word_count</th>\n",
       "      <th>length</th>\n",
       "    </tr>\n",
       "  </thead>\n",
       "  <tbody>\n",
       "    <tr>\n",
       "      <th>0</th>\n",
       "      <td>1</td>\n",
       "      <td>According to Gran the company have no plan to ...</td>\n",
       "      <td>124</td>\n",
       "      <td>22</td>\n",
       "      <td>22</td>\n",
       "    </tr>\n",
       "    <tr>\n",
       "      <th>1</th>\n",
       "      <td>1</td>\n",
       "      <td>Technopolis plan to develop in stage an area o...</td>\n",
       "      <td>187</td>\n",
       "      <td>29</td>\n",
       "      <td>29</td>\n",
       "    </tr>\n",
       "    <tr>\n",
       "      <th>2</th>\n",
       "      <td>0</td>\n",
       "      <td>The international electronic industry company ...</td>\n",
       "      <td>225</td>\n",
       "      <td>33</td>\n",
       "      <td>33</td>\n",
       "    </tr>\n",
       "    <tr>\n",
       "      <th>3</th>\n",
       "      <td>2</td>\n",
       "      <td>With the new production plant the company woul...</td>\n",
       "      <td>205</td>\n",
       "      <td>32</td>\n",
       "      <td>32</td>\n",
       "    </tr>\n",
       "    <tr>\n",
       "      <th>4</th>\n",
       "      <td>2</td>\n",
       "      <td>According to the companyupdated strategy for t...</td>\n",
       "      <td>192</td>\n",
       "      <td>35</td>\n",
       "      <td>35</td>\n",
       "    </tr>\n",
       "  </tbody>\n",
       "</table>\n",
       "</div>"
      ],
      "text/plain": [
       "   sentiment                                               news  news_len  \\\n",
       "0          1  According to Gran the company have no plan to ...       124   \n",
       "1          1  Technopolis plan to develop in stage an area o...       187   \n",
       "2          0  The international electronic industry company ...       225   \n",
       "3          2  With the new production plant the company woul...       205   \n",
       "4          2  According to the companyupdated strategy for t...       192   \n",
       "\n",
       "   word_count  length  \n",
       "0          22      22  \n",
       "1          29      29  \n",
       "2          33      33  \n",
       "3          32      32  \n",
       "4          35      35  "
      ]
     },
     "execution_count": 8,
     "metadata": {},
     "output_type": "execute_result"
    }
   ],
   "source": [
    "df.head()"
   ]
  },
  {
   "cell_type": "markdown",
   "id": "4c2806a8-915a-4d49-837a-886537466daa",
   "metadata": {},
   "source": [
    "# Revised dataset"
   ]
  },
  {
   "cell_type": "code",
   "execution_count": 9,
   "id": "1fcbabce-5aeb-4474-9122-6eb99837ec15",
   "metadata": {},
   "outputs": [],
   "source": [
    "df['news_len'] = df['news'].astype(str).apply(len)\n",
    "df['word_count'] = df['news'].apply(lambda x: len(str(x).split()))"
   ]
  },
  {
   "cell_type": "code",
   "execution_count": 10,
   "id": "042af6a0-216f-450c-9ec6-39becfb95e01",
   "metadata": {},
   "outputs": [
    {
     "data": {
      "text/html": [
       "<div>\n",
       "<style scoped>\n",
       "    .dataframe tbody tr th:only-of-type {\n",
       "        vertical-align: middle;\n",
       "    }\n",
       "\n",
       "    .dataframe tbody tr th {\n",
       "        vertical-align: top;\n",
       "    }\n",
       "\n",
       "    .dataframe thead th {\n",
       "        text-align: right;\n",
       "    }\n",
       "</style>\n",
       "<table border=\"1\" class=\"dataframe\">\n",
       "  <thead>\n",
       "    <tr style=\"text-align: right;\">\n",
       "      <th></th>\n",
       "      <th>sentiment</th>\n",
       "      <th>news</th>\n",
       "      <th>news_len</th>\n",
       "      <th>word_count</th>\n",
       "      <th>length</th>\n",
       "    </tr>\n",
       "  </thead>\n",
       "  <tbody>\n",
       "    <tr>\n",
       "      <th>0</th>\n",
       "      <td>1</td>\n",
       "      <td>According to Gran the company have no plan to ...</td>\n",
       "      <td>118</td>\n",
       "      <td>22</td>\n",
       "      <td>22</td>\n",
       "    </tr>\n",
       "    <tr>\n",
       "      <th>1</th>\n",
       "      <td>1</td>\n",
       "      <td>Technopolis plan to develop in stage an area o...</td>\n",
       "      <td>173</td>\n",
       "      <td>29</td>\n",
       "      <td>29</td>\n",
       "    </tr>\n",
       "    <tr>\n",
       "      <th>2</th>\n",
       "      <td>0</td>\n",
       "      <td>The international electronic industry company ...</td>\n",
       "      <td>209</td>\n",
       "      <td>33</td>\n",
       "      <td>33</td>\n",
       "    </tr>\n",
       "    <tr>\n",
       "      <th>3</th>\n",
       "      <td>2</td>\n",
       "      <td>With the new production plant the company woul...</td>\n",
       "      <td>202</td>\n",
       "      <td>32</td>\n",
       "      <td>32</td>\n",
       "    </tr>\n",
       "    <tr>\n",
       "      <th>4</th>\n",
       "      <td>2</td>\n",
       "      <td>According to the companyupdated strategy for t...</td>\n",
       "      <td>179</td>\n",
       "      <td>33</td>\n",
       "      <td>35</td>\n",
       "    </tr>\n",
       "  </tbody>\n",
       "</table>\n",
       "</div>"
      ],
      "text/plain": [
       "   sentiment                                               news  news_len  \\\n",
       "0          1  According to Gran the company have no plan to ...       118   \n",
       "1          1  Technopolis plan to develop in stage an area o...       173   \n",
       "2          0  The international electronic industry company ...       209   \n",
       "3          2  With the new production plant the company woul...       202   \n",
       "4          2  According to the companyupdated strategy for t...       179   \n",
       "\n",
       "   word_count  length  \n",
       "0          22      22  \n",
       "1          29      29  \n",
       "2          33      33  \n",
       "3          32      32  \n",
       "4          33      35  "
      ]
     },
     "execution_count": 10,
     "metadata": {},
     "output_type": "execute_result"
    }
   ],
   "source": [
    "df.head()"
   ]
  },
  {
   "cell_type": "markdown",
   "id": "0618fef7",
   "metadata": {},
   "source": [
    " # POS"
   ]
  },
  {
   "cell_type": "code",
   "execution_count": 11,
   "id": "fd4eb47c",
   "metadata": {},
   "outputs": [],
   "source": [
    "#create a file with each tweet\n",
    "stringa=\"\"\n",
    "for i in df[\"news\"]:\n",
    "    stringa += i"
   ]
  },
  {
   "cell_type": "code",
   "execution_count": 12,
   "id": "6a12ce55",
   "metadata": {},
   "outputs": [],
   "source": [
    "token1 = nltk.word_tokenize(stringa) #tokenize text"
   ]
  },
  {
   "cell_type": "code",
   "execution_count": 13,
   "id": "076a1681",
   "metadata": {},
   "outputs": [],
   "source": [
    "token_1_tag=nltk.pos_tag(token1)"
   ]
  },
  {
   "cell_type": "code",
   "execution_count": 14,
   "id": "0454d7ce",
   "metadata": {},
   "outputs": [
    {
     "data": {
      "image/png": "[encoded data removed]",
      "text/plain": [
       "<Figure size 1080x504 with 1 Axes>"
      ]
     },
     "metadata": {
      "needs_background": "light"
     },
     "output_type": "display_data"
    }
   ],
   "source": [
    "plt.figure(figsize=(15,7))\n",
    "pos_df = pd.DataFrame(token_1_tag, columns= [\"words\", \"pos\"])\n",
    "pos_df = pos_df.pos.value_counts()[:5]\n",
    "pos_df.plot(\n",
    "    kind='bar',\n",
    "    title='Top 20 Part-of-speech tagging for Review text')\n",
    "plt.show()    \n",
    "    "
   ]
  },
  {
   "cell_type": "code",
   "execution_count": null,
   "metadata": {},
   "outputs": [],
   "source": []
  }
 ],
 "metadata": {
  "kernelspec": {
   "display_name": "base",
   "language": "python",
   "name": "python3"
  },
  "language_info": {
   "codemirror_mode": {
    "name": "ipython",
    "version": 3
   },
   "file_extension": ".py",
   "mimetype": "text/x-python",
   "name": "python",
   "nbconvert_exporter": "python",
   "pygments_lexer": "ipython3",
   "version": "3.8.2"
  },
  "orig_nbformat": 4,
  "vscode": {
   "interpreter": {
    "hash": "40d3a090f54c6569ab1632332b64b2c03c39dcf918b08424e98f38b5ae0af88f"
   }
  }
 },
 "nbformat": 4,
 "nbformat_minor": 2
}
